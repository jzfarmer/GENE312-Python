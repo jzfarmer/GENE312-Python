{
 "cells": [
  {
   "cell_type": "code",
   "execution_count": null,
   "metadata": {},
   "outputs": [],
   "source": [
    "#\n",
    "# hw6pr1:  flower power!\n",
    "#"
   ]
  },
  {
   "cell_type": "code",
   "execution_count": 26,
   "metadata": {},
   "outputs": [],
   "source": [
    "# libraries!\n",
    "import numpy as np      # numpy is Python's \"array\" library\n",
    "import pandas as pd     # Pandas is Python's \"data\" library (\"dataframe\" == spreadsheet)\n"
   ]
  },
  {
   "cell_type": "code",
   "execution_count": 2,
   "metadata": {},
   "outputs": [
    {
     "name": "stdout",
     "output_type": "stream",
     "text": [
      "file read!\n"
     ]
    }
   ],
   "source": [
    "# let's read in our flower data...\n",
    "# \n",
    "# for read_csv, use header=0 when row 0 is a header row\n",
    "# \n",
    "df = pd.read_csv('iris4.csv', header=0)   # read the file w/header row #0\n",
    "print(\"file read!\")"
   ]
  },
  {
   "cell_type": "code",
   "execution_count": 3,
   "metadata": {},
   "outputs": [],
   "source": [
    "#\n",
    "# let's convert our data to a numpy array\n",
    "#\n",
    "A = df.values"
   ]
  },
  {
   "cell_type": "code",
   "execution_count": 4,
   "metadata": {},
   "outputs": [
    {
     "name": "stdout",
     "output_type": "stream",
     "text": [
      "[[5.7 2.8 4.1 1.3 'unknown']\n",
      " [6.3 3.3 6.0 2.5 'unknown']\n",
      " [6.2 2.9 4.3 1.3 'unknown']\n",
      " [5.1 2.5 3.0 1.1 'unknown']\n",
      " [5.4 3.4 1.5 0.4 'unknown']\n",
      " [5.2 4.1 1.5 0.1 'unknown']\n",
      " [5.8 2.7 5.1 1.9 'unknown']\n",
      " [5.7 2.9 4.2 1.3 'unknown']\n",
      " [4.8 3.1 1.6 0.2 'unknown']\n",
      " [5.1 3.5 1.4 0.2 'setosa']\n",
      " [4.9 3.0 1.4 0.2 'setosa']\n",
      " [4.7 3.2 1.3 0.2 'setosa']\n",
      " [4.6 3.1 1.5 0.2 'setosa']\n",
      " [5.0 3.6 1.4 0.2 'setosa']\n",
      " [5.4 3.9 1.7 0.4 'setosa']\n",
      " [4.6 3.4 1.4 0.3 'setosa']\n",
      " [5.0 3.4 1.5 0.2 'setosa']\n",
      " [4.4 2.9 1.4 0.2 'setosa']\n",
      " [4.9 3.1 1.5 0.1 'setosa']\n",
      " [5.4 3.7 1.5 0.2 'setosa']\n",
      " [4.8 3.4 1.6 0.2 'setosa']\n",
      " [4.8 3.0 1.4 0.1 'setosa']\n",
      " [4.3 3.0 1.1 0.1 'setosa']\n",
      " [5.8 4.0 1.2 0.2 'setosa']\n",
      " [5.7 4.4 1.5 0.4 'setosa']\n",
      " [5.4 3.9 1.3 0.4 'setosa']\n",
      " [5.1 3.5 1.4 0.3 'setosa']\n",
      " [5.7 3.8 1.7 0.3 'setosa']\n",
      " [5.1 3.8 1.5 0.3 'setosa']\n",
      " [5.4 3.4 1.7 0.2 'setosa']\n",
      " [5.1 3.7 1.5 0.4 'setosa']\n",
      " [4.6 3.6 1.0 0.2 'setosa']\n",
      " [5.1 3.3 1.7 0.5 'setosa']\n",
      " [4.8 3.4 1.9 0.2 'setosa']\n",
      " [5.0 3.0 1.6 0.2 'setosa']\n",
      " [5.0 3.4 1.6 0.4 'setosa']\n",
      " [5.2 3.5 1.5 0.2 'setosa']\n",
      " [5.2 3.4 1.4 0.2 'setosa']\n",
      " [4.7 3.2 1.6 0.2 'setosa']\n",
      " [5.5 4.2 1.4 0.2 'setosa']\n",
      " [4.9 3.1 1.5 0.1 'setosa']\n",
      " [5.0 3.2 1.2 0.2 'setosa']\n",
      " [5.5 3.5 1.3 0.2 'setosa']\n",
      " [4.9 3.1 1.5 0.1 'setosa']\n",
      " [4.4 3.0 1.3 0.2 'setosa']\n",
      " [5.1 3.4 1.5 0.2 'setosa']\n",
      " [5.0 3.5 1.3 0.3 'setosa']\n",
      " [4.5 2.3 1.3 0.3 'setosa']\n",
      " [4.4 3.2 1.3 0.2 'setosa']\n",
      " [5.0 3.5 1.6 0.6 'setosa']\n",
      " [5.1 3.8 1.9 0.4 'setosa']\n",
      " [4.8 3.0 1.4 0.3 'setosa']\n",
      " [5.1 3.8 1.6 0.2 'setosa']\n",
      " [4.6 3.2 1.4 0.2 'setosa']\n",
      " [5.3 3.7 1.5 0.2 'setosa']\n",
      " [5.0 3.3 1.4 0.2 'versicolor']\n",
      " [7.0 3.2 4.7 1.4 'versicolor']\n",
      " [6.4 3.2 4.5 1.5 'versicolor']\n",
      " [6.9 3.1 4.9 1.5 'versicolor']\n",
      " [5.5 2.3 4.0 1.3 'versicolor']\n",
      " [6.5 2.8 4.6 1.5 'versicolor']\n",
      " [5.7 2.8 4.5 1.3 'versicolor']\n",
      " [6.3 3.3 4.7 1.6 'versicolor']\n",
      " [4.9 2.4 3.3 1.0 'versicolor']\n",
      " [6.6 2.9 4.6 1.3 'versicolor']\n",
      " [5.2 2.7 3.9 1.4 'versicolor']\n",
      " [5.0 2.0 3.5 1.0 'versicolor']\n",
      " [5.9 3.0 4.2 1.5 'versicolor']\n",
      " [6.0 2.2 4.0 1.0 'versicolor']\n",
      " [6.1 2.9 4.7 1.4 'versicolor']\n",
      " [5.6 2.9 3.6 1.3 'versicolor']\n",
      " [6.7 3.1 4.4 1.4 'versicolor']\n",
      " [5.6 3.0 4.5 1.5 'versicolor']\n",
      " [5.8 2.7 4.1 1.0 'versicolor']\n",
      " [6.2 2.2 4.5 1.5 'versicolor']\n",
      " [5.6 2.5 3.9 1.1 'versicolor']\n",
      " [5.9 3.2 4.8 1.8 'versicolor']\n",
      " [6.1 2.8 4.0 1.3 'versicolor']\n",
      " [6.3 2.5 4.9 1.5 'versicolor']\n",
      " [6.1 2.8 4.7 1.2 'versicolor']\n",
      " [6.4 2.9 4.3 1.3 'versicolor']\n",
      " [6.6 3.0 4.4 1.4 'versicolor']\n",
      " [6.8 2.8 4.8 1.4 'versicolor']\n",
      " [6.7 3.0 5.0 1.7 'versicolor']\n",
      " [6.0 2.9 4.5 1.5 'versicolor']\n",
      " [5.7 2.6 3.5 1.0 'versicolor']\n",
      " [5.5 2.4 3.8 1.1 'versicolor']\n",
      " [5.5 2.4 3.7 1.0 'versicolor']\n",
      " [5.8 2.7 3.9 1.2 'versicolor']\n",
      " [6.0 2.7 5.1 1.6 'versicolor']\n",
      " [5.4 3.0 4.5 1.5 'versicolor']\n",
      " [6.0 3.4 4.5 1.6 'versicolor']\n",
      " [6.7 3.1 4.7 1.5 'versicolor']\n",
      " [6.3 2.3 4.4 1.3 'versicolor']\n",
      " [5.6 3.0 4.1 1.3 'versicolor']\n",
      " [5.5 2.5 4.0 1.3 'versicolor']\n",
      " [5.5 2.6 4.4 1.2 'versicolor']\n",
      " [6.1 3.0 4.6 1.4 'versicolor']\n",
      " [5.8 2.6 4.0 1.2 'versicolor']\n",
      " [5.0 2.3 3.3 1.0 'versicolor']\n",
      " [5.6 2.7 4.2 1.3 'versicolor']\n",
      " [5.7 3.0 4.2 1.2 'versicolor']\n",
      " [7.1 3.0 5.9 2.1 'virginica']\n",
      " [6.3 2.9 5.6 1.8 'virginica']\n",
      " [6.5 3.0 5.8 2.2 'virginica']\n",
      " [7.6 3.0 6.6 2.1 'virginica']\n",
      " [4.9 2.5 4.5 1.7 'virginica']\n",
      " [7.3 2.9 6.3 1.8 'virginica']\n",
      " [6.7 2.5 5.8 1.8 'virginica']\n",
      " [7.2 3.6 6.1 2.5 'virginica']\n",
      " [6.5 3.2 5.1 2.0 'virginica']\n",
      " [6.4 2.7 5.3 1.9 'virginica']\n",
      " [6.8 3.0 5.5 2.1 'virginica']\n",
      " [5.7 2.5 5.0 2.0 'virginica']\n",
      " [5.8 2.8 5.1 2.4 'virginica']\n",
      " [6.4 3.2 5.3 2.3 'virginica']\n",
      " [6.5 3.0 5.5 1.8 'virginica']\n",
      " [7.7 3.8 6.7 2.2 'virginica']\n",
      " [7.7 2.6 6.9 2.3 'virginica']\n",
      " [6.0 2.2 5.0 1.5 'virginica']\n",
      " [6.9 3.2 5.7 2.3 'virginica']\n",
      " [5.6 2.8 4.9 2.0 'virginica']\n",
      " [7.7 2.8 6.7 2.0 'virginica']\n",
      " [6.3 2.7 4.9 1.8 'virginica']\n",
      " [6.7 3.3 5.7 2.1 'virginica']\n",
      " [7.2 3.2 6.0 1.8 'virginica']\n",
      " [6.2 2.8 4.8 1.8 'virginica']\n",
      " [6.1 3.0 4.9 1.8 'virginica']\n",
      " [6.4 2.8 5.6 2.1 'virginica']\n",
      " [7.2 3.0 5.8 1.6 'virginica']\n",
      " [7.4 2.8 6.1 1.9 'virginica']\n",
      " [7.9 3.8 6.4 2.0 'virginica']\n",
      " [6.4 2.8 5.6 2.2 'virginica']\n",
      " [6.3 2.8 5.1 1.5 'virginica']\n",
      " [6.1 2.6 5.6 1.4 'virginica']\n",
      " [7.7 3.0 6.1 2.3 'virginica']\n",
      " [6.3 3.4 5.6 2.4 'virginica']\n",
      " [6.4 3.1 5.5 1.8 'virginica']\n",
      " [6.0 3.0 4.8 1.8 'virginica']\n",
      " [6.9 3.1 5.4 2.1 'virginica']\n",
      " [6.7 3.1 5.6 2.4 'virginica']\n",
      " [6.9 3.1 5.1 2.3 'virginica']\n",
      " [5.8 2.7 5.1 1.9 'virginica']\n",
      " [6.8 3.2 5.9 2.3 'virginica']\n",
      " [6.7 3.3 5.7 2.5 'virginica']\n",
      " [6.7 3.0 5.2 2.3 'virginica']\n",
      " [6.3 2.5 5.0 1.9 'virginica']\n",
      " [6.5 3.0 5.2 2.0 'virginica']\n",
      " [6.2 3.4 5.4 2.3 'virginica']\n",
      " [5.9 3.0 5.1 1.8 'virginica']]\n"
     ]
    },
    {
     "data": {
      "text/plain": [
       "'\\n0:sepallen\\n1:sepalwid\\n2:petallen\\n3:petalwid\\n4:irisname\\n'"
      ]
     },
     "execution_count": 4,
     "metadata": {},
     "output_type": "execute_result"
    }
   ],
   "source": [
    "print(A)\n",
    "# column order is\n",
    "\"\"\"\n",
    "0:sepallen\n",
    "1:sepalwid\n",
    "2:petallen\n",
    "3:petalwid\n",
    "4:irisname\n",
    "\"\"\""
   ]
  },
  {
   "cell_type": "code",
   "execution_count": 5,
   "metadata": {},
   "outputs": [
    {
     "name": "stdout",
     "output_type": "stream",
     "text": [
      "[5.7 2.8 4.1 1.3 'unknown']\n"
     ]
    }
   ],
   "source": [
    "print(A[0])"
   ]
  },
  {
   "cell_type": "code",
   "execution_count": 6,
   "metadata": {},
   "outputs": [
    {
     "name": "stdout",
     "output_type": "stream",
     "text": [
      "[5.9 3.0 5.1 1.8 'virginica']\n"
     ]
    }
   ],
   "source": [
    "print(A[-1])"
   ]
  },
  {
   "cell_type": "code",
   "execution_count": 7,
   "metadata": {},
   "outputs": [
    {
     "name": "stdout",
     "output_type": "stream",
     "text": [
      "5.7\n"
     ]
    }
   ],
   "source": [
    "print(A[0][0])   # sepallength"
   ]
  },
  {
   "cell_type": "code",
   "execution_count": 8,
   "metadata": {},
   "outputs": [
    {
     "name": "stdout",
     "output_type": "stream",
     "text": [
      "2.8\n"
     ]
    }
   ],
   "source": [
    "print(A[0][1])   # sepalwidth"
   ]
  },
  {
   "cell_type": "code",
   "execution_count": 9,
   "metadata": {},
   "outputs": [
    {
     "name": "stdout",
     "output_type": "stream",
     "text": [
      "4.1\n"
     ]
    }
   ],
   "source": [
    "print(A[0][2])   # petallength"
   ]
  },
  {
   "cell_type": "code",
   "execution_count": 10,
   "metadata": {},
   "outputs": [
    {
     "name": "stdout",
     "output_type": "stream",
     "text": [
      "1.3\n"
     ]
    }
   ],
   "source": [
    "print(A[0][3])   # petalwidth"
   ]
  },
  {
   "cell_type": "code",
   "execution_count": 11,
   "metadata": {},
   "outputs": [
    {
     "name": "stdout",
     "output_type": "stream",
     "text": [
      "unknown\n"
     ]
    }
   ],
   "source": [
    "print(A[0][4])   # irisname"
   ]
  },
  {
   "cell_type": "code",
   "execution_count": 12,
   "metadata": {},
   "outputs": [
    {
     "name": "stdout",
     "output_type": "stream",
     "text": [
      "bestpr is [7.9, 131]\n",
      "the result index is 131\n",
      "The flower at that index is [7.9 3.8 6.4 2.0 'virginica']\n"
     ]
    }
   ],
   "source": [
    "# Example function #1:  Find the index and flower with the highest sepallength\n",
    "\n",
    "def fun1(A):\n",
    "    \"\"\" returns the index of the flower with the highest sepallength \"\"\"\n",
    "    LoL = [  [A[i][0], i]   for i in range(len(A))  ]\n",
    "    # print(LoL)\n",
    "    bestpr = max(LoL)\n",
    "    print(\"bestpr is\", bestpr)\n",
    "    return bestpr[1]\n",
    "\n",
    "# try it!\n",
    "result = fun1(A)\n",
    "print(\"the result index is\", result)\n",
    "print(\"The flower at that index is\", A[result])"
   ]
  },
  {
   "cell_type": "code",
   "execution_count": 13,
   "metadata": {},
   "outputs": [
    {
     "name": "stdout",
     "output_type": "stream",
     "text": [
      "bestpr is [4.3, 22]\n",
      "the result index is 22\n",
      "The flower at that index is [4.3 3.0 1.1 0.1 'setosa']\n"
     ]
    }
   ],
   "source": [
    "# Example function #2:  Find the index and flower with the LOWEST sepallength\n",
    "\n",
    "def fun2(A):\n",
    "    \"\"\" returns the index of the flower with the highest sepallength \"\"\"\n",
    "    LoL = [  [A[i][0], i]   for i in range(len(A))  ]\n",
    "    # print(LoL)\n",
    "    bestpr = min(LoL)\n",
    "    print(\"bestpr is\", bestpr)\n",
    "    return bestpr[1]\n",
    "\n",
    "# try it!\n",
    "result = fun2(A)\n",
    "print(\"the result index is\", result)\n",
    "print(\"The flower at that index is\", A[result])"
   ]
  },
  {
   "cell_type": "code",
   "execution_count": 14,
   "metadata": {},
   "outputs": [
    {
     "name": "stdout",
     "output_type": "stream",
     "text": [
      "bestpr is [0.09999999999999964, 22]\n",
      "the result index is 22\n",
      "The flower at that index is [4.3 3.0 1.1 0.1 'setosa']\n"
     ]
    }
   ],
   "source": [
    "# Example function #3:  Find the index and flower with the sepallength closest to 4.2\n",
    "\n",
    "def fun3(A):\n",
    "    \"\"\" returns the index of the flower with the highest sepallength \"\"\"\n",
    "    goal = 4.2\n",
    "    LoL = [  [ abs(A[i][0]-goal), i ]   for i in range(len(A))  ]\n",
    "    # print(LoL)\n",
    "    bestpr = min(LoL)\n",
    "    print(\"bestpr is\", bestpr)\n",
    "    return bestpr[1]\n",
    "\n",
    "# try it!\n",
    "result = fun3(A)\n",
    "print(\"the result index is\", result)\n",
    "print(\"The flower at that index is\", A[result])"
   ]
  },
  {
   "cell_type": "code",
   "execution_count": 18,
   "metadata": {},
   "outputs": [
    {
     "name": "stdout",
     "output_type": "stream",
     "text": [
      "bestpr is [6.9, 118]\n",
      "the result index is 118\n",
      "The flower at that index is [7.7 2.6 6.9 2.3 'virginica']\n"
     ]
    }
   ],
   "source": [
    "# Your function #4:  Find the index and flower with the HIGHEST petal length\n",
    "def fun4(A):\n",
    "    \"\"\" returns the index of the flower with the highest petal length \"\"\"\n",
    "    LoL = [  [A[i][2], i]   for i in range(len(A))  ]\n",
    "    # print(LoL)\n",
    "    bestpr = max(LoL)\n",
    "    print(\"bestpr is\", bestpr)\n",
    "    return bestpr[1]\n",
    "\n",
    "# try it!\n",
    "result = fun4(A)\n",
    "print(\"the result index is\", result)\n",
    "print(\"The flower at that index is\", A[result])\n"
   ]
  },
  {
   "cell_type": "code",
   "execution_count": 20,
   "metadata": {},
   "outputs": [
    {
     "name": "stdout",
     "output_type": "stream",
     "text": [
      "bestpr is [1.0, 31]\n",
      "the result index is 31\n",
      "The flower at that index is [4.6 3.6 1.0 0.2 'setosa']\n"
     ]
    }
   ],
   "source": [
    "# Your function #5:  Find the index and flower with the LOWEST petal length\n",
    "def fun5(A):\n",
    "    \"\"\" returns the index of the flower with the lowest petal length\"\"\"\n",
    "    LoL = [  [A[i][2], i]   for i in range(len(A))  ]\n",
    "    # print(LoL)\n",
    "    bestpr = min(LoL)\n",
    "    print(\"bestpr is\", bestpr)\n",
    "    return bestpr[1]\n",
    "\n",
    "# try it!\n",
    "result = fun5(A)\n",
    "print(\"the result index is\", result)\n",
    "print(\"The flower at that index is\", A[result])\n"
   ]
  },
  {
   "cell_type": "code",
   "execution_count": 21,
   "metadata": {},
   "outputs": [
    {
     "name": "stdout",
     "output_type": "stream",
     "text": [
      "bestpr is [0.2999999999999998, 1]\n",
      "the result index is 1\n",
      "The flower at that index is [6.3 3.3 6.0 2.5 'unknown']\n"
     ]
    }
   ],
   "source": [
    "# Your function #6:  Find the index and flower with the LOWEST abs(petallength - sepallength) difference\n",
    "def fun6(A):\n",
    "    \"\"\" returns the index and flower with the LOWEST abs(petallength - sepallength) difference \"\"\"\n",
    "    LoL = [  [ abs(A[i][2]-A[i][0]), i ]   for i in range(len(A))  ]\n",
    "    # print(LoL)\n",
    "    bestpr = min(LoL)\n",
    "    print(\"bestpr is\", bestpr)\n",
    "    return bestpr[1]\n",
    "\n",
    "# try it!\n",
    "result = fun6(A)\n",
    "print(\"the result index is\", result)\n",
    "print(\"The flower at that index is\", A[result])\n"
   ]
  },
  {
   "cell_type": "code",
   "execution_count": 28,
   "metadata": {},
   "outputs": [
    {
     "name": "stdout",
     "output_type": "stream",
     "text": [
      "bestpr is [20.4, 117]\n",
      "the result index is 117\n",
      "The flower at that index is [7.7 3.8 6.7 2.2 'virginica']\n"
     ]
    }
   ],
   "source": [
    "# Your function #7:  Find the index and flower with the HIGHEST _average_ of all four lengths+widths\n",
    "\n",
    "def fun7(A):\n",
    "    \"\"\" returns the index of the flower with the highest sepallength \"\"\"\n",
    "    LoL = [  [ ((A[i][0]+A[i][1]+A[i][2]+A[i][3])), i ]   for i in range(len(A))  ]\n",
    "    # print(LoL)\n",
    "    bestpr = max(LoL)\n",
    "    print(\"bestpr is\", bestpr)\n",
    "    return bestpr[1]\n",
    "\n",
    "# try it!\n",
    "result = fun7(A)\n",
    "print(\"the result index is\", result)\n",
    "print(\"The flower at that index is\", A[result])"
   ]
  },
  {
   "cell_type": "code",
   "execution_count": 30,
   "metadata": {},
   "outputs": [
    {
     "name": "stdout",
     "output_type": "stream",
     "text": [
      "the predicted_species is setosa\n",
      "the    actual_species is setosa\n"
     ]
    }
   ],
   "source": [
    "# Example function #8:  Based on the four lengths (0:sepallen, 1:sepalwid, 2:petallen, 3:petalwid)\n",
    "#    predict the species of flower that is input\n",
    "#    note:  the input will be a list of four values (the same order as above...)\n",
    "\n",
    "def fun8(L):\n",
    "    \"\"\" returns the species! \"\"\"\n",
    "    sepallen = L[0]\n",
    "    sepalwid = L[1]\n",
    "    petallen = L[2]\n",
    "    petalwid = L[3]\n",
    "    #print(\"L has \", sepallen, sepalwid, petallen, petalwid)\n",
    "    if L[0] < 6.0:\n",
    "        return \"setosa\"\n",
    "    elif L[0] > 3*L[1]:\n",
    "        return \"versicolor\"\n",
    "    else:\n",
    "        return \"virginica\"\n",
    "\n",
    "# try it!\n",
    "flower_index = 42\n",
    "flower_data = A[flower_index][0:4]   # all four values\n",
    "actual_species = A[flower_index][4]\n",
    "\n",
    "predicted_species = fun8(flower_data)\n",
    "print(\"the predicted_species is\", predicted_species)\n",
    "print(\"the    actual_species is\", actual_species)"
   ]
  },
  {
   "cell_type": "code",
   "execution_count": 32,
   "metadata": {},
   "outputs": [
    {
     "name": "stdout",
     "output_type": "stream",
     "text": [
      "the predicted_species is setosa\n",
      "the    actual_species is setosa\n"
     ]
    }
   ],
   "source": [
    "# Challenge function #9:  Based on the example in #8, build a better prediction function! (\n",
    "#    again the data are (0:sepallen, 1:sepalwid, 2:petallen, 3:petalwid)\n",
    "#    predict the species of flower that is input\n",
    "#    note:  the input will be a list of four values (the same order as above...)\n",
    "\n",
    "def fun9(L):\n",
    "    \"\"\" returns the species! \"\"\"\n",
    "    sepallen = L[0]\n",
    "    sepalwid = L[1]\n",
    "    petallen = L[2]\n",
    "    petalwid = L[3]\n",
    "    #print(\"L has \", sepallen, sepalwid, petallen, petalwid)\n",
    "    if L[0] < 6.0 and L[1] < 5.0:\n",
    "        return \"setosa\"\n",
    "    elif L[0] > 3*L[1]:\n",
    "        return \"versicolor\"\n",
    "    else:\n",
    "        return \"virginica\"\n",
    "\n",
    "# try it!\n",
    "flower_index = 42\n",
    "flower_data = A[flower_index][0:4]   # all four values\n",
    "actual_species = A[flower_index][4]\n",
    "\n",
    "predicted_species = fun8(flower_data)\n",
    "print(\"the predicted_species is\", predicted_species)\n",
    "print(\"the    actual_species is\", actual_species)\n"
   ]
  },
  {
   "cell_type": "code",
   "execution_count": 34,
   "metadata": {},
   "outputs": [
    {
     "name": "stdout",
     "output_type": "stream",
     "text": [
      "predicted ~ actual:  setosa ~ unknown     \n",
      "predicted ~ actual:  virginica ~ unknown     \n",
      "predicted ~ actual:  virginica ~ unknown     \n",
      "predicted ~ actual:  setosa ~ unknown     \n",
      "predicted ~ actual:  setosa ~ unknown     \n",
      "predicted ~ actual:  setosa ~ unknown     \n",
      "predicted ~ actual:  setosa ~ unknown     \n",
      "predicted ~ actual:  setosa ~ unknown     \n",
      "predicted ~ actual:  setosa ~ unknown     \n",
      "predicted ~ actual:  setosa ~ setosa     Correct!\n",
      "predicted ~ actual:  setosa ~ setosa     Correct!\n",
      "predicted ~ actual:  setosa ~ setosa     Correct!\n",
      "predicted ~ actual:  setosa ~ setosa     Correct!\n",
      "predicted ~ actual:  setosa ~ setosa     Correct!\n",
      "predicted ~ actual:  setosa ~ setosa     Correct!\n",
      "predicted ~ actual:  setosa ~ setosa     Correct!\n",
      "predicted ~ actual:  setosa ~ setosa     Correct!\n",
      "predicted ~ actual:  setosa ~ setosa     Correct!\n",
      "predicted ~ actual:  setosa ~ setosa     Correct!\n",
      "predicted ~ actual:  setosa ~ setosa     Correct!\n",
      "predicted ~ actual:  setosa ~ setosa     Correct!\n",
      "predicted ~ actual:  setosa ~ setosa     Correct!\n",
      "predicted ~ actual:  setosa ~ setosa     Correct!\n",
      "predicted ~ actual:  setosa ~ setosa     Correct!\n",
      "predicted ~ actual:  setosa ~ setosa     Correct!\n",
      "predicted ~ actual:  setosa ~ setosa     Correct!\n",
      "predicted ~ actual:  setosa ~ setosa     Correct!\n",
      "predicted ~ actual:  setosa ~ setosa     Correct!\n",
      "predicted ~ actual:  setosa ~ setosa     Correct!\n",
      "predicted ~ actual:  setosa ~ setosa     Correct!\n",
      "predicted ~ actual:  setosa ~ setosa     Correct!\n",
      "predicted ~ actual:  setosa ~ setosa     Correct!\n",
      "predicted ~ actual:  setosa ~ setosa     Correct!\n",
      "predicted ~ actual:  setosa ~ setosa     Correct!\n",
      "predicted ~ actual:  setosa ~ setosa     Correct!\n",
      "predicted ~ actual:  setosa ~ setosa     Correct!\n",
      "predicted ~ actual:  setosa ~ setosa     Correct!\n",
      "predicted ~ actual:  setosa ~ setosa     Correct!\n",
      "predicted ~ actual:  setosa ~ setosa     Correct!\n",
      "predicted ~ actual:  setosa ~ setosa     Correct!\n",
      "predicted ~ actual:  setosa ~ setosa     Correct!\n",
      "predicted ~ actual:  setosa ~ setosa     Correct!\n",
      "predicted ~ actual:  setosa ~ setosa     Correct!\n",
      "predicted ~ actual:  setosa ~ setosa     Correct!\n",
      "predicted ~ actual:  setosa ~ setosa     Correct!\n",
      "predicted ~ actual:  setosa ~ setosa     Correct!\n",
      "predicted ~ actual:  setosa ~ setosa     Correct!\n",
      "predicted ~ actual:  setosa ~ setosa     Correct!\n",
      "predicted ~ actual:  setosa ~ setosa     Correct!\n",
      "predicted ~ actual:  setosa ~ setosa     Correct!\n",
      "predicted ~ actual:  setosa ~ setosa     Correct!\n",
      "predicted ~ actual:  setosa ~ setosa     Correct!\n",
      "predicted ~ actual:  setosa ~ setosa     Correct!\n",
      "predicted ~ actual:  setosa ~ setosa     Correct!\n",
      "predicted ~ actual:  setosa ~ setosa     Correct!\n",
      "predicted ~ actual:  setosa ~ versicolor     \n",
      "predicted ~ actual:  virginica ~ versicolor     \n",
      "predicted ~ actual:  virginica ~ versicolor     \n",
      "predicted ~ actual:  virginica ~ versicolor     \n",
      "predicted ~ actual:  setosa ~ versicolor     \n",
      "predicted ~ actual:  virginica ~ versicolor     \n",
      "predicted ~ actual:  setosa ~ versicolor     \n",
      "predicted ~ actual:  virginica ~ versicolor     \n",
      "predicted ~ actual:  setosa ~ versicolor     \n",
      "predicted ~ actual:  virginica ~ versicolor     \n",
      "predicted ~ actual:  setosa ~ versicolor     \n",
      "predicted ~ actual:  setosa ~ versicolor     \n",
      "predicted ~ actual:  setosa ~ versicolor     \n",
      "predicted ~ actual:  virginica ~ versicolor     \n",
      "predicted ~ actual:  virginica ~ versicolor     \n",
      "predicted ~ actual:  setosa ~ versicolor     \n",
      "predicted ~ actual:  virginica ~ versicolor     \n",
      "predicted ~ actual:  setosa ~ versicolor     \n",
      "predicted ~ actual:  setosa ~ versicolor     \n",
      "predicted ~ actual:  virginica ~ versicolor     \n",
      "predicted ~ actual:  setosa ~ versicolor     \n",
      "predicted ~ actual:  setosa ~ versicolor     \n",
      "predicted ~ actual:  virginica ~ versicolor     \n",
      "predicted ~ actual:  virginica ~ versicolor     \n",
      "predicted ~ actual:  virginica ~ versicolor     \n",
      "predicted ~ actual:  virginica ~ versicolor     \n",
      "predicted ~ actual:  virginica ~ versicolor     \n",
      "predicted ~ actual:  virginica ~ versicolor     \n",
      "predicted ~ actual:  virginica ~ versicolor     \n",
      "predicted ~ actual:  virginica ~ versicolor     \n",
      "predicted ~ actual:  setosa ~ versicolor     \n",
      "predicted ~ actual:  setosa ~ versicolor     \n",
      "predicted ~ actual:  setosa ~ versicolor     \n",
      "predicted ~ actual:  setosa ~ versicolor     \n",
      "predicted ~ actual:  virginica ~ versicolor     \n",
      "predicted ~ actual:  setosa ~ versicolor     \n",
      "predicted ~ actual:  virginica ~ versicolor     \n",
      "predicted ~ actual:  virginica ~ versicolor     \n",
      "predicted ~ actual:  virginica ~ versicolor     \n",
      "predicted ~ actual:  setosa ~ versicolor     \n",
      "predicted ~ actual:  setosa ~ versicolor     \n",
      "predicted ~ actual:  setosa ~ versicolor     \n",
      "predicted ~ actual:  virginica ~ versicolor     \n",
      "predicted ~ actual:  setosa ~ versicolor     \n",
      "predicted ~ actual:  setosa ~ versicolor     \n",
      "predicted ~ actual:  setosa ~ versicolor     \n",
      "predicted ~ actual:  setosa ~ versicolor     \n",
      "predicted ~ actual:  virginica ~ virginica     Correct!\n",
      "predicted ~ actual:  virginica ~ virginica     Correct!\n",
      "predicted ~ actual:  virginica ~ virginica     Correct!\n",
      "predicted ~ actual:  virginica ~ virginica     Correct!\n",
      "predicted ~ actual:  setosa ~ virginica     \n",
      "predicted ~ actual:  virginica ~ virginica     Correct!\n",
      "predicted ~ actual:  virginica ~ virginica     Correct!\n",
      "predicted ~ actual:  virginica ~ virginica     Correct!\n",
      "predicted ~ actual:  virginica ~ virginica     Correct!\n",
      "predicted ~ actual:  virginica ~ virginica     Correct!\n",
      "predicted ~ actual:  virginica ~ virginica     Correct!\n",
      "predicted ~ actual:  setosa ~ virginica     \n",
      "predicted ~ actual:  setosa ~ virginica     \n",
      "predicted ~ actual:  virginica ~ virginica     Correct!\n",
      "predicted ~ actual:  virginica ~ virginica     Correct!\n",
      "predicted ~ actual:  virginica ~ virginica     Correct!\n",
      "predicted ~ actual:  virginica ~ virginica     Correct!\n",
      "predicted ~ actual:  virginica ~ virginica     Correct!\n",
      "predicted ~ actual:  virginica ~ virginica     Correct!\n",
      "predicted ~ actual:  setosa ~ virginica     \n",
      "predicted ~ actual:  virginica ~ virginica     Correct!\n",
      "predicted ~ actual:  virginica ~ virginica     Correct!\n",
      "predicted ~ actual:  virginica ~ virginica     Correct!\n",
      "predicted ~ actual:  virginica ~ virginica     Correct!\n",
      "predicted ~ actual:  virginica ~ virginica     Correct!\n",
      "predicted ~ actual:  virginica ~ virginica     Correct!\n",
      "predicted ~ actual:  virginica ~ virginica     Correct!\n",
      "predicted ~ actual:  virginica ~ virginica     Correct!\n",
      "predicted ~ actual:  virginica ~ virginica     Correct!\n",
      "predicted ~ actual:  virginica ~ virginica     Correct!\n",
      "predicted ~ actual:  virginica ~ virginica     Correct!\n",
      "predicted ~ actual:  virginica ~ virginica     Correct!\n",
      "predicted ~ actual:  virginica ~ virginica     Correct!\n",
      "predicted ~ actual:  virginica ~ virginica     Correct!\n",
      "predicted ~ actual:  virginica ~ virginica     Correct!\n",
      "predicted ~ actual:  virginica ~ virginica     Correct!\n",
      "predicted ~ actual:  virginica ~ virginica     Correct!\n",
      "predicted ~ actual:  virginica ~ virginica     Correct!\n",
      "predicted ~ actual:  virginica ~ virginica     Correct!\n",
      "predicted ~ actual:  virginica ~ virginica     Correct!\n",
      "predicted ~ actual:  setosa ~ virginica     \n",
      "predicted ~ actual:  virginica ~ virginica     Correct!\n",
      "predicted ~ actual:  virginica ~ virginica     Correct!\n",
      "predicted ~ actual:  virginica ~ virginica     Correct!\n",
      "predicted ~ actual:  virginica ~ virginica     Correct!\n",
      "predicted ~ actual:  virginica ~ virginica     Correct!\n",
      "predicted ~ actual:  virginica ~ virginica     Correct!\n",
      "predicted ~ actual:  setosa ~ virginica     \n",
      "\n",
      "Out of a total of 141 this function got correct: 88\n",
      "\n"
     ]
    }
   ],
   "source": [
    "# try it on all of them!\n",
    "\n",
    "correct = 0\n",
    "total = 0\n",
    "\n",
    "for flower_index in range(len(A)):\n",
    "    flower_data = A[flower_index][0:4]   # all four values\n",
    "    actual_species = A[flower_index][4]\n",
    "    \n",
    "    predicted_species = fun9(flower_data)   # you should use fun9 !\n",
    "    \n",
    "    # count!\n",
    "    if actual_species != \"unknown\":\n",
    "        total += 1\n",
    "        \n",
    "    # check!!\n",
    "    if actual_species == predicted_species:\n",
    "        correct += 1\n",
    "        correct_string = \"Correct!\"\n",
    "    else:\n",
    "        correct_string = \"\"\n",
    "    \n",
    "    # print!!!\n",
    "    print(f\"predicted ~ actual:  {predicted_species} ~ {actual_species}     {correct_string}\")\n",
    "    \n",
    "\n",
    "        \n",
    "print()\n",
    "print(f\"Out of a total of {total} this function got correct: {correct}\")\n",
    "print()"
   ]
  }
 ],
 "metadata": {
  "kernelspec": {
   "display_name": "Python 3",
   "language": "python",
   "name": "python3"
  },
  "language_info": {
   "codemirror_mode": {
    "name": "ipython",
    "version": 3
   },
   "file_extension": ".py",
   "mimetype": "text/x-python",
   "name": "python",
   "nbconvert_exporter": "python",
   "pygments_lexer": "ipython3",
   "version": "3.8.3"
  }
 },
 "nbformat": 4,
 "nbformat_minor": 4
}
